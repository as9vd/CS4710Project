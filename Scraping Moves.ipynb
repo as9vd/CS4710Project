{
 "cells": [
  {
   "cell_type": "code",
   "execution_count": 1,
   "id": "1316fd50-7c52-4bad-adb9-ca10ac494be3",
   "metadata": {
    "execution": {
     "iopub.execute_input": "2023-11-12T21:11:13.125674Z",
     "iopub.status.busy": "2023-11-12T21:11:13.125033Z",
     "iopub.status.idle": "2023-11-12T21:11:13.383114Z",
     "shell.execute_reply": "2023-11-12T21:11:13.381597Z",
     "shell.execute_reply.started": "2023-11-12T21:11:13.125617Z"
    }
   },
   "outputs": [],
   "source": [
    "from bs4 import BeautifulSoup\n",
    "import requests"
   ]
  },
  {
   "cell_type": "code",
   "execution_count": 17,
   "id": "0432b23f-ea21-4446-b8a6-46b03b2ca5af",
   "metadata": {
    "execution": {
     "iopub.execute_input": "2023-11-12T21:21:56.591447Z",
     "iopub.status.busy": "2023-11-12T21:21:56.590862Z",
     "iopub.status.idle": "2023-11-12T21:21:57.493218Z",
     "shell.execute_reply": "2023-11-12T21:21:57.491897Z",
     "shell.execute_reply.started": "2023-11-12T21:21:56.591406Z"
    },
    "tags": []
   },
   "outputs": [],
   "source": [
    "response = requests.get(\"https://bulbapedia.bulbagarden.net/wiki/List_of_moves\")\n",
    "soup = BeautifulSoup(response.content, \"html.parser\")\n",
    "\n",
    "tables = soup.find_all(\"table\")\n",
    "move_table = tables[0]"
   ]
  },
  {
   "cell_type": "code",
   "execution_count": 57,
   "id": "27ee8530-964d-468f-bf53-432366459d23",
   "metadata": {
    "execution": {
     "iopub.execute_input": "2023-11-12T21:37:07.100111Z",
     "iopub.status.busy": "2023-11-12T21:37:07.099158Z",
     "iopub.status.idle": "2023-11-12T21:37:07.143119Z",
     "shell.execute_reply": "2023-11-12T21:37:07.142253Z",
     "shell.execute_reply.started": "2023-11-12T21:37:07.100061Z"
    },
    "tags": []
   },
   "outputs": [],
   "source": [
    "rows = move_table.find_all('tr')\n",
    "i = 0\n",
    "dead = []\n",
    "# (_, name, type, special/physical, pp, bp, accuarcy, gen)\n",
    "with open('Gen4Moves.txt', 'w') as file:\n",
    "    for row in rows[2:]:\n",
    "        cols = row.find_all('td')\n",
    "        if len(cols) != 8:\n",
    "            dead.append(cols)\n",
    "            continue\n",
    "        \n",
    "        _, name, typing, move_type, pp, bp, acc, gen = (cols[0].text.replace(\"\\n\", \"\"), \n",
    "                                                        cols[1].text.replace(\"\\n\", \"\"), \n",
    "                                                        cols[2].text.replace(\"\\n\", \"\"), \n",
    "                                                        cols[3].text.replace(\"\\n\", \"\"),\n",
    "                                                        cols[4].text.replace(\"\\n\", \"\"), \n",
    "                                                        cols[5].text.replace(\"\\n\", \"\"),\n",
    "                                                        cols[6].text.replace(\"\\n\", \"\"), \n",
    "                                                        cols[7].text.replace(\"\\n\", \"\"))\n",
    "    \n",
    "        if gen == \"V\":\n",
    "            break\n",
    "        else:\n",
    "            file.write(name + \",\" + typing + \",\" + move_type + \",\" + pp + \n",
    "                       \",\" + bp + \",\" + acc + \",\" + gen + '\\n')"
   ]
  },
  {
   "cell_type": "code",
   "execution_count": 78,
   "id": "0ece7333-1384-472b-a998-ac7d05eb3164",
   "metadata": {
    "execution": {
     "iopub.execute_input": "2023-11-12T21:44:46.741950Z",
     "iopub.status.busy": "2023-11-12T21:44:46.740886Z",
     "iopub.status.idle": "2023-11-12T21:44:46.796530Z",
     "shell.execute_reply": "2023-11-12T21:44:46.794623Z",
     "shell.execute_reply.started": "2023-11-12T21:44:46.741902Z"
    },
    "tags": []
   },
   "outputs": [],
   "source": [
    "with open('Gen4MoveLinks.txt', 'w') as file:\n",
    "    for row in rows[2:]:\n",
    "        cols = row.find_all('td')\n",
    "        gen = cols[7].text.replace(\"\\n\", \"\")\n",
    "        if gen == \"V\":\n",
    "            break\n",
    "        else:\n",
    "            link = cols[1].find('a')['href']\n",
    "            file.write(\"https://bulbapedia.bulbagarden.net\" + link + \"\\n\")"
   ]
  },
  {
   "cell_type": "code",
   "execution_count": null,
   "id": "6e019da0-a3c3-4297-80a2-58c8b949f843",
   "metadata": {},
   "outputs": [],
   "source": []
  }
 ],
 "metadata": {
  "kernelspec": {
   "display_name": "Python 3 (ipykernel)",
   "language": "python",
   "name": "python3"
  },
  "language_info": {
   "codemirror_mode": {
    "name": "ipython",
    "version": 3
   },
   "file_extension": ".py",
   "mimetype": "text/x-python",
   "name": "python",
   "nbconvert_exporter": "python",
   "pygments_lexer": "ipython3",
   "version": "3.9.12"
  }
 },
 "nbformat": 4,
 "nbformat_minor": 5
}
